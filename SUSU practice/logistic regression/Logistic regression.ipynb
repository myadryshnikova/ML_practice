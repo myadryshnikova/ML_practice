{
 "cells": [
  {
   "cell_type": "code",
   "execution_count": 3,
   "id": "a5e56920",
   "metadata": {},
   "outputs": [],
   "source": [
    "import pandas as pd\n",
    "import numpy as np\n",
    "import matplotlib.pyplot as plt\n",
    "\n",
    "%matplotlib inline"
   ]
  },
  {
   "cell_type": "code",
   "execution_count": 10,
   "id": "6355cde2",
   "metadata": {},
   "outputs": [],
   "source": [
    "students_data = pd.read_csv('ex2data1.txt', sep=\",\", header=None)\n",
    "students_data.columns = [\"Exam 1 Score\", \"Exam 2 Score\", \"Admitted\"]"
   ]
  },
  {
   "cell_type": "code",
   "execution_count": 11,
   "id": "374f569b",
   "metadata": {},
   "outputs": [
    {
     "data": {
      "text/html": [
       "<div>\n",
       "<style scoped>\n",
       "    .dataframe tbody tr th:only-of-type {\n",
       "        vertical-align: middle;\n",
       "    }\n",
       "\n",
       "    .dataframe tbody tr th {\n",
       "        vertical-align: top;\n",
       "    }\n",
       "\n",
       "    .dataframe thead th {\n",
       "        text-align: right;\n",
       "    }\n",
       "</style>\n",
       "<table border=\"1\" class=\"dataframe\">\n",
       "  <thead>\n",
       "    <tr style=\"text-align: right;\">\n",
       "      <th></th>\n",
       "      <th>Exam 1 Score</th>\n",
       "      <th>Exam 2 Score</th>\n",
       "      <th>Admitted</th>\n",
       "    </tr>\n",
       "  </thead>\n",
       "  <tbody>\n",
       "    <tr>\n",
       "      <th>0</th>\n",
       "      <td>34.623660</td>\n",
       "      <td>78.024693</td>\n",
       "      <td>0</td>\n",
       "    </tr>\n",
       "    <tr>\n",
       "      <th>1</th>\n",
       "      <td>30.286711</td>\n",
       "      <td>43.894998</td>\n",
       "      <td>0</td>\n",
       "    </tr>\n",
       "    <tr>\n",
       "      <th>2</th>\n",
       "      <td>35.847409</td>\n",
       "      <td>72.902198</td>\n",
       "      <td>0</td>\n",
       "    </tr>\n",
       "    <tr>\n",
       "      <th>3</th>\n",
       "      <td>60.182599</td>\n",
       "      <td>86.308552</td>\n",
       "      <td>1</td>\n",
       "    </tr>\n",
       "    <tr>\n",
       "      <th>4</th>\n",
       "      <td>79.032736</td>\n",
       "      <td>75.344376</td>\n",
       "      <td>1</td>\n",
       "    </tr>\n",
       "    <tr>\n",
       "      <th>...</th>\n",
       "      <td>...</td>\n",
       "      <td>...</td>\n",
       "      <td>...</td>\n",
       "    </tr>\n",
       "    <tr>\n",
       "      <th>95</th>\n",
       "      <td>83.489163</td>\n",
       "      <td>48.380286</td>\n",
       "      <td>1</td>\n",
       "    </tr>\n",
       "    <tr>\n",
       "      <th>96</th>\n",
       "      <td>42.261701</td>\n",
       "      <td>87.103851</td>\n",
       "      <td>1</td>\n",
       "    </tr>\n",
       "    <tr>\n",
       "      <th>97</th>\n",
       "      <td>99.315009</td>\n",
       "      <td>68.775409</td>\n",
       "      <td>1</td>\n",
       "    </tr>\n",
       "    <tr>\n",
       "      <th>98</th>\n",
       "      <td>55.340018</td>\n",
       "      <td>64.931938</td>\n",
       "      <td>1</td>\n",
       "    </tr>\n",
       "    <tr>\n",
       "      <th>99</th>\n",
       "      <td>74.775893</td>\n",
       "      <td>89.529813</td>\n",
       "      <td>1</td>\n",
       "    </tr>\n",
       "  </tbody>\n",
       "</table>\n",
       "<p>100 rows × 3 columns</p>\n",
       "</div>"
      ],
      "text/plain": [
       "    Exam 1 Score  Exam 2 Score  Admitted\n",
       "0      34.623660     78.024693         0\n",
       "1      30.286711     43.894998         0\n",
       "2      35.847409     72.902198         0\n",
       "3      60.182599     86.308552         1\n",
       "4      79.032736     75.344376         1\n",
       "..           ...           ...       ...\n",
       "95     83.489163     48.380286         1\n",
       "96     42.261701     87.103851         1\n",
       "97     99.315009     68.775409         1\n",
       "98     55.340018     64.931938         1\n",
       "99     74.775893     89.529813         1\n",
       "\n",
       "[100 rows x 3 columns]"
      ]
     },
     "execution_count": 11,
     "metadata": {},
     "output_type": "execute_result"
    }
   ],
   "source": [
    "students_data"
   ]
  },
  {
   "cell_type": "code",
   "execution_count": 24,
   "id": "d87e9086",
   "metadata": {},
   "outputs": [
    {
     "name": "stdout",
     "output_type": "stream",
     "text": [
      "<class 'pandas.core.frame.DataFrame'>\n",
      "RangeIndex: 100 entries, 0 to 99\n",
      "Data columns (total 3 columns):\n",
      " #   Column        Non-Null Count  Dtype  \n",
      "---  ------        --------------  -----  \n",
      " 0   Exam 1 Score  100 non-null    float64\n",
      " 1   Exam 2 Score  100 non-null    float64\n",
      " 2   Admitted      100 non-null    int64  \n",
      "dtypes: float64(2), int64(1)\n",
      "memory usage: 2.5 KB\n"
     ]
    }
   ],
   "source": [
    "students_data.info()"
   ]
  },
  {
   "cell_type": "code",
   "execution_count": 23,
   "id": "02a743f7",
   "metadata": {},
   "outputs": [
    {
     "data": {
      "image/png": "[encoded data removed]",
      "text/plain": [
       "<Figure size 640x480 with 1 Axes>"
      ]
     },
     "metadata": {},
     "output_type": "display_data"
    }
   ],
   "source": [
    "admitted_mask = students_data['Admitted'] == 1\n",
    "not_admitted_mask = students_data['Admitted'] == 0\n",
    "\n",
    "plt.scatter(students_data[admitted_mask]['Exam 1 Score'], \n",
    "            students_data[admitted_mask]['Exam 2 Score'], \n",
    "            marker='o', \n",
    "            color='b')\n",
    "plt.scatter(students_data[not_admitted_mask]['Exam 1 Score'], \n",
    "            students_data[not_admitted_mask]['Exam 2 Score'], \n",
    "            marker='x', \n",
    "            color='r')\n",
    "\n",
    "plt.xlabel('Exam 1 Score')\n",
    "plt.ylabel('Exam 2 Score')\n",
    "plt.legend([\"Admitted\" , \"Not Admitted\"])\n",
    "plt.show()"
   ]
  },
  {
   "cell_type": "code",
   "execution_count": 29,
   "id": "3dcbad0c",
   "metadata": {},
   "outputs": [],
   "source": [
    "def parse_data(data, thetas):\n",
    "    thetas = np.resize(np.array([theta for theta in thetas]), (len(thetas), 1))\n",
    "    y = np.resize(np.array(data[data.columns[-1]]), (data.shape[0], 1))\n",
    "\n",
    "    X = np.array(data[data.columns[:-1]])\n",
    "    ones_vector = np.resize(np.array([1 for _ in range(data.shape[0])]), (data.shape[0], 1))               \n",
    "    X = np.hstack((ones_vector,X))\n",
    "\n",
    "    return X, y, thetas"
   ]
  },
  {
   "cell_type": "code",
   "execution_count": 30,
   "id": "60819a80",
   "metadata": {},
   "outputs": [],
   "source": [
    "X, y, thetas = parse_data(data=students_data, thetas=[0, 0])"
   ]
  },
  {
   "cell_type": "code",
   "execution_count": 34,
   "id": "754b2a9a",
   "metadata": {},
   "outputs": [],
   "source": [
    "import math\n",
    "\n",
    "def sigmoid(z):\n",
    "    return 1 / (1 + math.exp(-z))"
   ]
  }
 ],
 "metadata": {
  "kernelspec": {
   "display_name": "Python 3 (ipykernel)",
   "language": "python",
   "name": "python3"
  },
  "language_info": {
   "codemirror_mode": {
    "name": "ipython",
    "version": 3
   },
   "file_extension": ".py",
   "mimetype": "text/x-python",
   "name": "python",
   "nbconvert_exporter": "python",
   "pygments_lexer": "ipython3",
   "version": "3.8.10"
  }
 },
 "nbformat": 4,
 "nbformat_minor": 5
}
